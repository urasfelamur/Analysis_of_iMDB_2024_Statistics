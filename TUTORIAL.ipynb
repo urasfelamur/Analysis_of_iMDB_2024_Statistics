{
 "cells": [
  {
   "cell_type": "markdown",
   "id": "1c96357b",
   "metadata": {},
   "source": [
    "# 🎬 Actor Performance Analysis of iMDB 2024 Statistics\n",
    "\n",
    "This notebook demonstrates how to use the `actor_analysis` package to analyze and visualize top 50 actors' performances based on IMDb movie data.  \n",
    "We compute metrics like average budget, revenue, vote average, and profitability — both generally and actor-wise — using IMDb 2024 data.\n",
    "\n",
    "The dataset can be found here: https://www.kaggle.com/datasets/anandshaw2001/imdb-movies-and-tv-shows/data\n",
    "\n",
    "We have derived new statistics from this dataset and attained new columns, their explanations are as goes:\n",
    "- Actor: Names of actors\n",
    "- Budget_Mean_General: The mean of all movie budgets in the processed dataset.\n",
    "- Revenue_Mean_General: The mean of all movies' revenues in the processed dataset.\t\n",
    "- Vote_Average_General: The mean of all votes in the processed dataset.\t\n",
    "- Profit_Mean_General: \tThe mean of all movies' profits in the processed dataset via: (General Mean Revenue - General Mean Budget)/Size of the Dataset .\n",
    "- Budget_Mean_Actor: The mean of all movie budgets depending on actor in the processed dataset.\n",
    "- Revenue_Mean_Actor: The mean of all movies' revenue depending on actor in the processed dataset.\t\n",
    "- Vote_Average_Actor: The mean of all votes depending on actor in the processed dataset.\t\t\n",
    "- Profit_Mean_Actor: The mean of all movies' profits depending on actor in the processed dataset\t\n",
    "- isProfitable: States if the actor on row is more profitable than the general.\t\n",
    "- isLiked: States if the actor on row has more of an vote average than the general."
   ]
  },
  {
   "cell_type": "code",
   "execution_count": null,
   "id": "c6dfb4d8",
   "metadata": {},
   "outputs": [],
   "source": [
    "# If not installed yet\n",
    "!pip3 install -e ."
   ]
  },
  {
   "cell_type": "code",
   "execution_count": null,
   "id": "281d6e7f",
   "metadata": {},
   "outputs": [],
   "source": [
    "from actor_analysis import (\n",
    "    load_data,\n",
    "    preprocess_data,\n",
    "    extract_cast_list,\n",
    "    calculate_general_statistics,\n",
    "    get_top_actors,\n",
    "    calculate_actor_statistics,\n",
    "    plot_actor_statistics\n",
    ")"
   ]
  },
  {
   "cell_type": "markdown",
   "id": "af3d9baf",
   "metadata": {},
   "source": [
    "### Step 1: Load and Clean the IMDb Dataset"
   ]
  },
  {
   "cell_type": "code",
   "execution_count": null,
   "id": "c12ba43d",
   "metadata": {},
   "outputs": [],
   "source": [
    "df_raw = load_data('IMDb2024.csv')\n",
    "df = preprocess_data(df_raw)\n",
    "df.head(df.size)"
   ]
  },
  {
   "cell_type": "markdown",
   "id": "ae68520e",
   "metadata": {},
   "source": [
    "### Step 2: Extract Actor Names and Analyze Top 50"
   ]
  },
  {
   "cell_type": "code",
   "execution_count": null,
   "id": "e1993296",
   "metadata": {},
   "outputs": [],
   "source": [
    "cast_list = extract_cast_list(df)\n",
    "top_actors = get_top_actors(cast_list, top_n=50)\n",
    "general_stats = calculate_general_statistics(df)\n",
    "actor_stats_df = calculate_actor_statistics(df, top_actors, general_stats)\n",
    "\n",
    "actor_stats_df.head(actor_stats_df.size)"
   ]
  },
  {
   "cell_type": "markdown",
   "id": "d580ac60",
   "metadata": {},
   "source": [
    "### Step 3: Visualize Actor Profitability and Popularity"
   ]
  },
  {
   "cell_type": "code",
   "execution_count": null,
   "id": "1ef10279",
   "metadata": {},
   "outputs": [],
   "source": [
    "plot_actor_statistics(actor_stats_df, 'Profit_Mean_Actor')"
   ]
  },
  {
   "cell_type": "code",
   "execution_count": null,
   "id": "a69d7913",
   "metadata": {},
   "outputs": [],
   "source": [
    "plot_actor_statistics(actor_stats_df, 'Vote_Average_Actor')"
   ]
  },
  {
   "cell_type": "markdown",
   "id": "4464c06f",
   "metadata": {},
   "source": [
    "### Summary & Insights\n",
    "\n",
    "#### Profitability\n",
    "Out of the top 50 actors, 45 actors (90%) are more profitable than the general movie average.\n",
    "Only 5 actors (10%) are not more profitable than the general baseline.\n",
    "Some of the most profitable actors include:\n",
    "- James Austin Johnson (~$763M profit)\n",
    "- Kyle MacLachlan (~$763M profit)\n",
    "- Rachel House (~$666M profit)\n",
    "- Seth Rogen (~$475M profit)\n",
    "#### Popularity (Based on Vote Average)\n",
    "40 out of 50 actors (80%) are liked more than the average movie rating.\n",
    "The general vote average is 5.93, while top actors often hit 6.50 or more.\n",
    "Actors with the highest average ratings include:\n",
    "- Timothée Chalamet (7.50)\n",
    "- Emma Corrin (7.00)\n",
    "- Pedro Pascal (7.00)\n",
    "- Lupita Nyong'o (7.00)\n",
    "#### Balanced Stars (Profitable & Liked)\n",
    "Actors like Pedro Pascal, Timothée Chalamet, Lupita Nyong'o, Kyle MacLachlan, and James Austin Johnson stand out as both highly profitable and well-liked."
   ]
  }
 ],
 "metadata": {
  "kernelspec": {
   "display_name": "Python 3",
   "language": "python",
   "name": "python3"
  },
  "language_info": {
   "codemirror_mode": {
    "name": "ipython",
    "version": 3
   },
   "file_extension": ".py",
   "mimetype": "text/x-python",
   "name": "python",
   "nbconvert_exporter": "python",
   "pygments_lexer": "ipython3",
   "version": "3.11.6"
  }
 },
 "nbformat": 4,
 "nbformat_minor": 5
}
